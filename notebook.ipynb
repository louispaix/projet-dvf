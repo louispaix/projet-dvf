{
 "cells": [
  {
   "cell_type": "code",
   "execution_count": 1,
   "id": "initial_id",
   "metadata": {
    "collapsed": true,
    "ExecuteTime": {
     "end_time": "2024-01-08T19:08:53.185022152Z",
     "start_time": "2024-01-08T19:08:52.801091687Z"
    }
   },
   "outputs": [],
   "source": [
    "import pandas as pd\n",
    "import numpy as np"
   ]
  },
  {
   "cell_type": "code",
   "outputs": [],
   "source": [
    "df = pd.read_csv(\"data_cleaned\"\n",
    "                 \".txt\", sep=\"|\", low_memory=False)"
   ],
   "metadata": {
    "collapsed": false,
    "ExecuteTime": {
     "end_time": "2024-01-08T19:08:59.840715911Z",
     "start_time": "2024-01-08T19:08:53.133041515Z"
    }
   },
   "id": "952ecc73a4766b07",
   "execution_count": 2
  },
  {
   "cell_type": "code",
   "outputs": [
    {
     "data": {
      "text/plain": "Index(['Identifiant de document', 'Reference document', '1 Articles CGI',\n       '2 Articles CGI', '3 Articles CGI', '4 Articles CGI', '5 Articles CGI',\n       'No disposition', 'Date mutation', 'Nature mutation', 'Valeur fonciere',\n       'No voie', 'B/T/Q', 'Type de voie', 'Code voie', 'Voie', 'Code postal',\n       'Commune', 'Code departement', 'Code commune', 'Prefixe de section',\n       'Section', 'No plan', 'No Volume', '1er lot',\n       'Surface Carrez du 1er lot', '2eme lot', 'Surface Carrez du 2eme lot',\n       '3eme lot', 'Surface Carrez du 3eme lot', '4eme lot',\n       'Surface Carrez du 4eme lot', '5eme lot', 'Surface Carrez du 5eme lot',\n       'Nombre de lots', 'Code type local', 'Type local', 'Identifiant local',\n       'Surface reelle bati', 'Nombre pieces principales', 'Nature culture',\n       'Nature culture speciale', 'Surface terrain'],\n      dtype='object')"
     },
     "execution_count": 3,
     "metadata": {},
     "output_type": "execute_result"
    }
   ],
   "source": [
    "df.columns"
   ],
   "metadata": {
    "collapsed": false,
    "ExecuteTime": {
     "end_time": "2024-01-08T19:08:59.919684278Z",
     "start_time": "2024-01-08T19:08:59.881936039Z"
    }
   },
   "id": "eb8cb7e6296a4f91",
   "execution_count": 3
  },
  {
   "cell_type": "code",
   "outputs": [
    {
     "data": {
      "text/plain": "Identifiant de document\nNaN    1532718\nName: count, dtype: int64"
     },
     "execution_count": 4,
     "metadata": {},
     "output_type": "execute_result"
    }
   ],
   "source": [
    "df[\"Identifiant de document\"].value_counts(dropna=False)"
   ],
   "metadata": {
    "collapsed": false,
    "ExecuteTime": {
     "end_time": "2024-01-08T19:08:59.920809915Z",
     "start_time": "2024-01-08T19:08:59.882626606Z"
    }
   },
   "id": "281ccd1b201718f5",
   "execution_count": 4
  },
  {
   "cell_type": "code",
   "outputs": [
    {
     "data": {
      "text/plain": "['Identifiant de document',\n 'Reference document',\n '1 Articles CGI',\n '2 Articles CGI',\n '3 Articles CGI',\n '4 Articles CGI',\n '5 Articles CGI',\n 'Identifiant local']"
     },
     "execution_count": 5,
     "metadata": {},
     "output_type": "execute_result"
    }
   ],
   "source": [
    "cols_to_drop = df.columns[df.isna().sum() == df.shape[0]].to_list()\n",
    "cols_to_drop"
   ],
   "metadata": {
    "collapsed": false,
    "ExecuteTime": {
     "end_time": "2024-01-08T19:09:00.765613634Z",
     "start_time": "2024-01-08T19:08:59.883278046Z"
    }
   },
   "id": "5b6acc88e092a24",
   "execution_count": 5
  },
  {
   "cell_type": "code",
   "outputs": [],
   "source": [
    "cols_to_create = df.columns[df.isna().sum() != df.shape[0]].to_list()"
   ],
   "metadata": {
    "collapsed": false,
    "ExecuteTime": {
     "end_time": "2024-01-08T19:09:01.621302839Z",
     "start_time": "2024-01-08T19:09:00.752806564Z"
    }
   },
   "id": "863156dee72f791d",
   "execution_count": 6
  },
  {
   "cell_type": "code",
   "outputs": [],
   "source": [
    "import mysql.connector"
   ],
   "metadata": {
    "collapsed": false,
    "ExecuteTime": {
     "end_time": "2024-01-08T19:09:01.653275800Z",
     "start_time": "2024-01-08T19:09:01.621889747Z"
    }
   },
   "id": "e24655af93974d55",
   "execution_count": 7
  },
  {
   "cell_type": "code",
   "outputs": [
    {
     "name": "stdout",
     "output_type": "stream",
     "text": [
      "['No disposition', 'Date mutation', 'Nature mutation', 'Valeur fonciere', 'No voie', 'B/T/Q', 'Type de voie', 'Code voie', 'Voie', 'Code postal', 'Commune', 'Code departement', 'Code commune', 'Prefixe de section', 'Section', 'No plan', 'No Volume', '1er lot', 'Surface Carrez du 1er lot', '2eme lot', 'Surface Carrez du 2eme lot', '3eme lot', 'Surface Carrez du 3eme lot', '4eme lot', 'Surface Carrez du 4eme lot', '5eme lot', 'Surface Carrez du 5eme lot', 'Nombre de lots', 'Code type local', 'Type local', 'Surface reelle bati', 'Nombre pieces principales', 'Nature culture', 'Nature culture speciale', 'Surface terrain']\n"
     ]
    }
   ],
   "source": [
    "print(cols_to_create)"
   ],
   "metadata": {
    "collapsed": false,
    "ExecuteTime": {
     "end_time": "2024-01-08T19:09:01.659552005Z",
     "start_time": "2024-01-08T19:09:01.651498452Z"
    }
   },
   "id": "b0ae08785a49fe5b",
   "execution_count": 8
  },
  {
   "cell_type": "code",
   "outputs": [
    {
     "data": {
      "text/plain": "0          3.0\n1          3.0\n2          2.0\n3          1.0\n4          3.0\n          ... \n1532713    2.0\n1532714    3.0\n1532715    2.0\n1532716    2.0\n1532717    4.0\nName: Code type local, Length: 909840, dtype: float64"
     },
     "execution_count": 9,
     "metadata": {},
     "output_type": "execute_result"
    }
   ],
   "source": [
    "df['Code type local'].dropna()"
   ],
   "metadata": {
    "collapsed": false,
    "ExecuteTime": {
     "end_time": "2024-01-08T19:09:01.770140666Z",
     "start_time": "2024-01-08T19:09:01.655607516Z"
    }
   },
   "id": "72bc56ccfbe81919",
   "execution_count": 9
  },
  {
   "cell_type": "code",
   "outputs": [
    {
     "data": {
      "text/plain": "No disposition                  int64\nDate mutation                  object\nNature mutation                object\nValeur fonciere               float64\nNo voie                       float64\nB/T/Q                          object\nType de voie                   object\nCode voie                      object\nVoie                           object\nCode postal                   float64\nCommune                        object\nCode departement               object\nCode commune                    int64\nPrefixe de section            float64\nSection                        object\nNo plan                         int64\nNo Volume                      object\n1er lot                        object\nSurface Carrez du 1er lot     float64\n2eme lot                       object\nSurface Carrez du 2eme lot    float64\n3eme lot                       object\nSurface Carrez du 3eme lot    float64\n4eme lot                      float64\nSurface Carrez du 4eme lot    float64\n5eme lot                       object\nSurface Carrez du 5eme lot    float64\nNombre de lots                  int64\nCode type local               float64\nType local                     object\nSurface reelle bati           float64\nNombre pieces principales     float64\nNature culture                 object\nNature culture speciale        object\nSurface terrain               float64\ndtype: object"
     },
     "execution_count": 10,
     "metadata": {},
     "output_type": "execute_result"
    }
   ],
   "source": [
    "df[cols_to_create].dtypes"
   ],
   "metadata": {
    "collapsed": false,
    "ExecuteTime": {
     "end_time": "2024-01-08T19:09:02.032385959Z",
     "start_time": "2024-01-08T19:09:01.701047445Z"
    }
   },
   "id": "2d1ae968a7697607",
   "execution_count": 10
  },
  {
   "cell_type": "code",
   "outputs": [
    {
     "data": {
      "text/plain": "No Volume\n2        746\n1        738\n3        250\n4        158\n5        114\n        ... \n11100      1\n11200      1\n11301      1\n11306      1\n1148       1\nName: count, Length: 337, dtype: int64"
     },
     "execution_count": 11,
     "metadata": {},
     "output_type": "execute_result"
    }
   ],
   "source": [
    "df[\"No Volume\"].value_counts()"
   ],
   "metadata": {
    "collapsed": false,
    "ExecuteTime": {
     "end_time": "2024-01-08T19:09:02.145793504Z",
     "start_time": "2024-01-08T19:09:02.055506785Z"
    }
   },
   "id": "a9e78e9a1d23abbf",
   "execution_count": 11
  },
  {
   "cell_type": "code",
   "outputs": [
    {
     "name": "stdout",
     "output_type": "stream",
     "text": [
      "Connected to MySQL server (version 8.2.0)\n"
     ]
    }
   ],
   "source": [
    "host = \"localhost\"\n",
    "user = \"root\"\n",
    "password = \"root\"\n",
    "\n",
    "try:\n",
    "    connection = mysql.connector.connect(\n",
    "        host=host,\n",
    "        user=user,\n",
    "        password=password,\n",
    "    )\n",
    "\n",
    "    if connection.is_connected():\n",
    "        print(f\"Connected to MySQL server (version {connection.get_server_info()})\")\n",
    "\n",
    "except mysql.connector.Error as e:\n",
    "    print(f\"Error connecting to MySQL: {e}\")\n",
    "\n",
    "else:\n",
    "    cursor = connection.cursor()\n",
    "    cursor.execute(\"CREATE DATABASE IF NOT EXISTS dvf\")\n",
    "    cursor.execute(\"USE dvf\")\n",
    "    cursor.execute(\"DROP TABLE IF EXISTS data\")\n",
    "    query = \"\"\"\n",
    "        CREATE TABLE data (\n",
    "            id INT AUTO_INCREMENT PRIMARY KEY,\n",
    "            no_disposition INT,\n",
    "            date_mutation VARCHAR(30),\n",
    "            nature_mutation VARCHAR(100),\n",
    "            valeur_fonciere DECIMAL,\n",
    "            no_voie DECIMAL,\n",
    "            btq VARCHAR(30),\n",
    "            type_voie VARCHAR(30),\n",
    "            code_voie VARCHAR(30),\n",
    "            voie VARCHAR(30),\n",
    "            code_postal VARCHAR(30),\n",
    "            commune VARCHAR(30),\n",
    "            code_departement VARCHAR(30),\n",
    "            code_commune VARCHAR(30),\n",
    "            prefixe_section VARCHAR(30),\n",
    "            section VARCHAR(30),\n",
    "            no_plan INT,\n",
    "            no_volume VARCHAR(30),\n",
    "            lot_1 VARCHAR(30),\n",
    "            carrez_lot_1 DECIMAL,\n",
    "            lot_2 VARCHAR(30),\n",
    "            carrez_lot_2 DECIMAL,\n",
    "            lot_3 VARCHAR(30),\n",
    "            carrez_lot_3 DECIMAL,\n",
    "            lot_4 VARCHAR(30),\n",
    "            carrez_lot_4 DECIMAL,\n",
    "            lot_5 VARCHAR(30),\n",
    "            carrez_lot_5 DECIMAL,\n",
    "            nombre_lots INT,\n",
    "            code_type_local DECIMAL,\n",
    "            type_local VARCHAR(100),\n",
    "            surface_reelle_bati DECIMAL,\n",
    "            nombre_pieces_principales DECIMAL,\n",
    "            nature_culture VARCHAR(30),\n",
    "            nature_culture_speciale VARCHAR(30),\n",
    "            surface_terrain DECIMAL\n",
    "        )\n",
    "    \"\"\"\n",
    "    cursor.execute(query)\n",
    "    \n",
    "    cursor.execute(\"DESCRIBE data\")\n",
    "    columns = [cols[0] for cols in cursor.fetchall()][1:]\n",
    "    \n",
    "    for _, record in df[cols_to_create].iterrows():\n",
    "        insert_query = f\"\"\"\n",
    "            INSERT INTO data (\n",
    "                {\", \".join(columns)}\n",
    "            ) VALUES (\n",
    "                {\", \".join([\"%s\"]*len(columns))}\n",
    "            )\n",
    "        \"\"\"\n",
    "        record.replace(np.nan, None, inplace=True)\n",
    "        values = tuple(record.values)\n",
    "        cursor.execute(insert_query, values)\n",
    "    connection.commit()\n",
    "    \n",
    "finally:\n",
    "    if connection.is_connected():\n",
    "        connection.close()\n",
    "        print(\"Connection closed\")\n"
   ],
   "metadata": {
    "collapsed": false,
    "is_executing": true,
    "ExecuteTime": {
     "start_time": "2024-01-08T19:12:54.527779101Z"
    }
   },
   "id": "d6f6dac27702b151",
   "execution_count": null
  },
  {
   "cell_type": "code",
   "outputs": [],
   "source": [
    "# df[\"Nature mutation\"].value_counts()"
   ],
   "metadata": {
    "collapsed": false,
    "ExecuteTime": {
     "end_time": "2024-01-08T19:09:02.559074543Z",
     "start_time": "2024-01-08T19:09:02.544893144Z"
    }
   },
   "id": "b9707b0e3f7f5bcf",
   "execution_count": 13
  }
 ],
 "metadata": {
  "kernelspec": {
   "display_name": "Python 3",
   "language": "python",
   "name": "python3"
  },
  "language_info": {
   "codemirror_mode": {
    "name": "ipython",
    "version": 2
   },
   "file_extension": ".py",
   "mimetype": "text/x-python",
   "name": "python",
   "nbconvert_exporter": "python",
   "pygments_lexer": "ipython2",
   "version": "2.7.6"
  }
 },
 "nbformat": 4,
 "nbformat_minor": 5
}
